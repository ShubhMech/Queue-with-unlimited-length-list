{
 "cells": [
  {
   "cell_type": "code",
   "execution_count": 12,
   "id": "07997e5d-22c1-4128-be0e-3b42df02c3d8",
   "metadata": {},
   "outputs": [],
   "source": [
    "class queue:\n",
    "    def __init__(self):\n",
    "        self.item=[]\n",
    "\n",
    "    def __str__(self):\n",
    "        values=[str(i) for i in self.item]\n",
    "        return \" \".join(values)\n",
    "    \n",
    "    def is_empty(self):\n",
    "        if len(self.item)==0:\n",
    "            return True\n",
    "        else:\n",
    "            return False\n",
    "        \n",
    "    def enqueue(self, value):\n",
    "        self.item.append(value)\n",
    "        return \"The element is inserted at the end of the list!\"\n",
    "    \n",
    "    def dequeue(self):\n",
    "        if self.is_empty():\n",
    "            print(\"What were you thinking??\")\n",
    "            \n",
    "        else:\n",
    "            self.item.pop(0)\n",
    "            \n",
    "    def peep(self):\n",
    "        if self.is_empty():\n",
    "            print(\"What were you thinking??\")\n",
    "            \n",
    "        else:\n",
    "            return self.item[0]\n",
    "        \n",
    "    def delete(self):\n",
    "        self.item=[]\n",
    "        "
   ]
  },
  {
   "cell_type": "code",
   "execution_count": 13,
   "id": "5b1a149e-3853-4e95-bbe9-fadbee08a507",
   "metadata": {},
   "outputs": [],
   "source": [
    "q=queue()"
   ]
  },
  {
   "cell_type": "code",
   "execution_count": 14,
   "id": "0f520554-2e4b-482b-b072-5ccb42f4fe06",
   "metadata": {},
   "outputs": [],
   "source": [
    "q.delete()"
   ]
  },
  {
   "cell_type": "code",
   "execution_count": 15,
   "id": "21bd5fa4-aeb9-4c4b-a348-253c0dce96ba",
   "metadata": {},
   "outputs": [
    {
     "data": {
      "text/plain": [
       "'The element is inserted at the end of the list!'"
      ]
     },
     "execution_count": 15,
     "metadata": {},
     "output_type": "execute_result"
    }
   ],
   "source": [
    "q.enqueue(7)"
   ]
  },
  {
   "cell_type": "code",
   "execution_count": 16,
   "id": "39e6aed4-dcdc-433f-ada3-c72037df288e",
   "metadata": {},
   "outputs": [
    {
     "data": {
      "text/plain": [
       "7"
      ]
     },
     "execution_count": 16,
     "metadata": {},
     "output_type": "execute_result"
    }
   ],
   "source": [
    "q.peep()"
   ]
  },
  {
   "cell_type": "code",
   "execution_count": 17,
   "id": "d2b8a0ec-8ac4-4659-90f1-f6df51b40d52",
   "metadata": {},
   "outputs": [
    {
     "data": {
      "text/plain": [
       "'The element is inserted at the end of the list!'"
      ]
     },
     "execution_count": 17,
     "metadata": {},
     "output_type": "execute_result"
    }
   ],
   "source": [
    "q.enqueue(17)"
   ]
  },
  {
   "cell_type": "code",
   "execution_count": 18,
   "id": "56394f22-5c1d-462b-addd-a9af1dc301de",
   "metadata": {},
   "outputs": [
    {
     "data": {
      "text/plain": [
       "'The element is inserted at the end of the list!'"
      ]
     },
     "execution_count": 18,
     "metadata": {},
     "output_type": "execute_result"
    }
   ],
   "source": [
    "q.enqueue(117)"
   ]
  },
  {
   "cell_type": "code",
   "execution_count": 19,
   "id": "cefd63b4-8c44-4045-9bd8-9c0b758aedbb",
   "metadata": {},
   "outputs": [
    {
     "data": {
      "text/plain": [
       "'The element is inserted at the end of the list!'"
      ]
     },
     "execution_count": 19,
     "metadata": {},
     "output_type": "execute_result"
    }
   ],
   "source": [
    "q.enqueue(1117)"
   ]
  },
  {
   "cell_type": "code",
   "execution_count": 20,
   "id": "50f228c2-36ab-4c55-9bcf-378050fa3534",
   "metadata": {},
   "outputs": [
    {
     "data": {
      "text/plain": [
       "'The element is inserted at the end of the list!'"
      ]
     },
     "execution_count": 20,
     "metadata": {},
     "output_type": "execute_result"
    }
   ],
   "source": [
    "q.enqueue(11117)"
   ]
  },
  {
   "cell_type": "code",
   "execution_count": 21,
   "id": "4aa2d2ff-fa53-45ea-8f73-5fbfeee3d278",
   "metadata": {},
   "outputs": [
    {
     "data": {
      "text/plain": [
       "7"
      ]
     },
     "execution_count": 21,
     "metadata": {},
     "output_type": "execute_result"
    }
   ],
   "source": [
    "q.peep()"
   ]
  },
  {
   "cell_type": "code",
   "execution_count": 22,
   "id": "cd0f79c8-95e8-4519-8117-3577f29932dc",
   "metadata": {},
   "outputs": [],
   "source": [
    "q.dequeue()"
   ]
  },
  {
   "cell_type": "code",
   "execution_count": 23,
   "id": "8d390115-13c8-4367-ad26-3eee79f33112",
   "metadata": {},
   "outputs": [
    {
     "name": "stdout",
     "output_type": "stream",
     "text": [
      "17 117 1117 11117\n"
     ]
    }
   ],
   "source": [
    "print(q)"
   ]
  },
  {
   "cell_type": "code",
   "execution_count": null,
   "id": "440e98f1-757c-495b-9918-52f881aa6786",
   "metadata": {},
   "outputs": [],
   "source": []
  }
 ],
 "metadata": {
  "kernelspec": {
   "display_name": "Python 3",
   "language": "python",
   "name": "python3"
  },
  "language_info": {
   "codemirror_mode": {
    "name": "ipython",
    "version": 3
   },
   "file_extension": ".py",
   "mimetype": "text/x-python",
   "name": "python",
   "nbconvert_exporter": "python",
   "pygments_lexer": "ipython3",
   "version": "3.8.5"
  }
 },
 "nbformat": 4,
 "nbformat_minor": 5
}
